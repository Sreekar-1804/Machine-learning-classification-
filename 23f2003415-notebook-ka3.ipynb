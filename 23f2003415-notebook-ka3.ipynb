{
 "cells": [
  {
   "cell_type": "markdown",
   "id": "82cd824b",
   "metadata": {
    "papermill": {
     "duration": 0.006886,
     "end_time": "2025-08-20T12:25:40.902770",
     "exception": false,
     "start_time": "2025-08-20T12:25:40.895884",
     "status": "completed"
    },
    "tags": []
   },
   "source": [
    "# MLP KA 3\n"
   ]
  },
  {
   "cell_type": "markdown",
   "id": "f32decbd",
   "metadata": {
    "papermill": {
     "duration": 0.005704,
     "end_time": "2025-08-20T12:25:40.914874",
     "exception": false,
     "start_time": "2025-08-20T12:25:40.909170",
     "status": "completed"
    },
    "tags": []
   },
   "source": [
    "### Predict rating given to an eatery by the customer based on their review. Submit predictions for the test data by learning from the training."
   ]
  },
  {
   "cell_type": "markdown",
   "id": "99058088",
   "metadata": {
    "papermill": {
     "duration": 0.005184,
     "end_time": "2025-08-20T12:25:40.925635",
     "exception": false,
     "start_time": "2025-08-20T12:25:40.920451",
     "status": "completed"
    },
    "tags": []
   },
   "source": [
    "**In this notebook, we aim to predict the star rating (1–5) that a customer gives to an eatery based on their review text and metadata.**\n",
    "**We will perform a structured workflow covering data exploration, cleaning, visualization, feature engineering, model building, hyperparameter tuning, and final submission.**"
   ]
  },
  {
   "cell_type": "code",
   "execution_count": 1,
   "id": "b02a00ad",
   "metadata": {
    "_cell_guid": "b1076dfc-b9ad-4769-8c92-a6c4dae69d19",
    "_uuid": "8f2839f25d086af736a60e9eeb907d3b93b6e0e5",
    "execution": {
     "iopub.execute_input": "2025-08-20T12:25:40.938244Z",
     "iopub.status.busy": "2025-08-20T12:25:40.937919Z",
     "iopub.status.idle": "2025-08-20T12:25:42.914148Z",
     "shell.execute_reply": "2025-08-20T12:25:42.913068Z"
    },
    "papermill": {
     "duration": 1.984696,
     "end_time": "2025-08-20T12:25:42.915924",
     "exception": false,
     "start_time": "2025-08-20T12:25:40.931228",
     "status": "completed"
    },
    "tags": []
   },
   "outputs": [
    {
     "name": "stdout",
     "output_type": "stream",
     "text": [
      "/kaggle/input/mlp-term-2-2025-kaggle-assignment-3/sample_submission.csv\n",
      "/kaggle/input/mlp-term-2-2025-kaggle-assignment-3/train.csv\n",
      "/kaggle/input/mlp-term-2-2025-kaggle-assignment-3/test.csv\n"
     ]
    }
   ],
   "source": [
    "# This Python 3 environment comes with many helpful analytics libraries installed\n",
    "# It is defined by the kaggle/python Docker image: https://github.com/kaggle/docker-python\n",
    "# For example, here's several helpful packages to load\n",
    "\n",
    "import numpy as np # linear algebra\n",
    "import pandas as pd # data processing, CSV file I/O (e.g. pd.read_csv)\n",
    "\n",
    "# Input data files are available in the read-only \"../input/\" directory\n",
    "# For example, running this (by clicking run or pressing Shift+Enter) will list all files under the input directory\n",
    "\n",
    "import os\n",
    "for dirname, _, filenames in os.walk('/kaggle/input'):\n",
    "    for filename in filenames:\n",
    "        print(os.path.join(dirname, filename))\n",
    "\n",
    "# You can write up to 20GB to the current directory (/kaggle/working/) that gets preserved as output when you create a version using \"Save & Run All\" \n",
    "# You can also write temporary files to /kaggle/temp/, but they won't be saved outside of the current session"
   ]
  },
  {
   "cell_type": "markdown",
   "id": "7589c162",
   "metadata": {
    "papermill": {
     "duration": 0.005536,
     "end_time": "2025-08-20T12:25:42.927682",
     "exception": false,
     "start_time": "2025-08-20T12:25:42.922146",
     "status": "completed"
    },
    "tags": []
   },
   "source": [
    "**We import all required libraries for data handling, visualization, preprocessing, and modeling. We also set a random state for reproducibility and suppress warnings for cleaner outputs.**"
   ]
  },
  {
   "cell_type": "code",
   "execution_count": 2,
   "id": "6f6cfa11",
   "metadata": {
    "execution": {
     "iopub.execute_input": "2025-08-20T12:25:42.940562Z",
     "iopub.status.busy": "2025-08-20T12:25:42.940130Z",
     "iopub.status.idle": "2025-08-20T12:25:45.888946Z",
     "shell.execute_reply": "2025-08-20T12:25:45.887989Z"
    },
    "papermill": {
     "duration": 2.957299,
     "end_time": "2025-08-20T12:25:45.890684",
     "exception": false,
     "start_time": "2025-08-20T12:25:42.933385",
     "status": "completed"
    },
    "tags": []
   },
   "outputs": [],
   "source": [
    "import numpy as np\n",
    "import pandas as pd\n",
    "import matplotlib.pyplot as plt\n",
    "import seaborn as sns\n",
    "import re\n",
    "from sklearn.pipeline import Pipeline\n",
    "from sklearn.model_selection import train_test_split, GridSearchCV\n",
    "from sklearn.feature_extraction.text import TfidfVectorizer\n",
    "from sklearn.preprocessing import LabelEncoder, StandardScaler , OneHotEncoder\n",
    "from sklearn.metrics import accuracy_score, classification_report, confusion_matrix , f1_score\n",
    "from sklearn.compose import ColumnTransformer\n",
    "from sklearn.linear_model import LogisticRegression\n",
    "from sklearn.tree import DecisionTreeClassifier\n",
    "from sklearn.ensemble import RandomForestClassifier, GradientBoostingClassifier\n",
    "from sklearn.naive_bayes import MultinomialNB\n",
    "from sklearn.neighbors import KNeighborsClassifier\n",
    "from sklearn.svm import LinearSVC"
   ]
  },
  {
   "cell_type": "code",
   "execution_count": 3,
   "id": "65b0bf9a",
   "metadata": {
    "execution": {
     "iopub.execute_input": "2025-08-20T12:25:45.905090Z",
     "iopub.status.busy": "2025-08-20T12:25:45.904596Z",
     "iopub.status.idle": "2025-08-20T12:25:45.909563Z",
     "shell.execute_reply": "2025-08-20T12:25:45.908601Z"
    },
    "papermill": {
     "duration": 0.01338,
     "end_time": "2025-08-20T12:25:45.911265",
     "exception": false,
     "start_time": "2025-08-20T12:25:45.897885",
     "status": "completed"
    },
    "tags": []
   },
   "outputs": [],
   "source": [
    "import warnings\n",
    "warnings.filterwarnings(\"ignore\")"
   ]
  },
  {
   "cell_type": "markdown",
   "id": "ed0d3b73",
   "metadata": {
    "papermill": {
     "duration": 0.005459,
     "end_time": "2025-08-20T12:25:45.922636",
     "exception": false,
     "start_time": "2025-08-20T12:25:45.917177",
     "status": "completed"
    },
    "tags": []
   },
   "source": [
    "# Load Data"
   ]
  },
  {
   "cell_type": "markdown",
   "id": "01e4e64e",
   "metadata": {
    "papermill": {
     "duration": 0.005378,
     "end_time": "2025-08-20T12:25:45.934267",
     "exception": false,
     "start_time": "2025-08-20T12:25:45.928889",
     "status": "completed"
    },
    "tags": []
   },
   "source": [
    "**We load the training, test, and sample submission datasets. The training set contains both features and the target (`rating`), while the test set contains only features.\n",
    "The sample submission shows the required format for Kaggle submissions.**"
   ]
  },
  {
   "cell_type": "code",
   "execution_count": 4,
   "id": "9e71b13e",
   "metadata": {
    "execution": {
     "iopub.execute_input": "2025-08-20T12:25:45.947984Z",
     "iopub.status.busy": "2025-08-20T12:25:45.947617Z",
     "iopub.status.idle": "2025-08-20T12:25:46.243611Z",
     "shell.execute_reply": "2025-08-20T12:25:46.242834Z"
    },
    "papermill": {
     "duration": 0.304287,
     "end_time": "2025-08-20T12:25:46.245224",
     "exception": false,
     "start_time": "2025-08-20T12:25:45.940937",
     "status": "completed"
    },
    "tags": []
   },
   "outputs": [],
   "source": [
    "train = pd.read_csv(\"/kaggle/input/mlp-term-2-2025-kaggle-assignment-3/train.csv\")\n",
    "test = pd.read_csv(\"/kaggle/input/mlp-term-2-2025-kaggle-assignment-3/test.csv\")\n",
    "sample_submission = pd.read_csv(\"/kaggle/input/mlp-term-2-2025-kaggle-assignment-3/sample_submission.csv\")"
   ]
  },
  {
   "cell_type": "markdown",
   "id": "068db540",
   "metadata": {
    "papermill": {
     "duration": 0.005449,
     "end_time": "2025-08-20T12:25:46.256624",
     "exception": false,
     "start_time": "2025-08-20T12:25:46.251175",
     "status": "completed"
    },
    "tags": []
   },
   "source": [
    "# Data Understanding"
   ]
  },
  {
   "cell_type": "markdown",
   "id": "7b71ed91",
   "metadata": {
    "papermill": {
     "duration": 0.005369,
     "end_time": "2025-08-20T12:25:46.267687",
     "exception": false,
     "start_time": "2025-08-20T12:25:46.262318",
     "status": "completed"
    },
    "tags": []
   },
   "source": [
    "**Here, we inspect the dataset structure, identify data types, and check descriptive statistics.\n",
    "We also examine the distribution of the target variable `rating` to understand class balance.**"
   ]
  },
  {
   "cell_type": "code",
   "execution_count": 5,
   "id": "b810e72c",
   "metadata": {
    "execution": {
     "iopub.execute_input": "2025-08-20T12:25:46.280339Z",
     "iopub.status.busy": "2025-08-20T12:25:46.280011Z",
     "iopub.status.idle": "2025-08-20T12:25:46.307138Z",
     "shell.execute_reply": "2025-08-20T12:25:46.306183Z"
    },
    "papermill": {
     "duration": 0.035108,
     "end_time": "2025-08-20T12:25:46.308571",
     "exception": false,
     "start_time": "2025-08-20T12:25:46.273463",
     "status": "completed"
    },
    "tags": []
   },
   "outputs": [
    {
     "data": {
      "text/html": [
       "<div>\n",
       "<style scoped>\n",
       "    .dataframe tbody tr th:only-of-type {\n",
       "        vertical-align: middle;\n",
       "    }\n",
       "\n",
       "    .dataframe tbody tr th {\n",
       "        vertical-align: top;\n",
       "    }\n",
       "\n",
       "    .dataframe thead th {\n",
       "        text-align: right;\n",
       "    }\n",
       "</style>\n",
       "<table border=\"1\" class=\"dataframe\">\n",
       "  <thead>\n",
       "    <tr style=\"text-align: right;\">\n",
       "      <th></th>\n",
       "      <th>id</th>\n",
       "      <th>store_name</th>\n",
       "      <th>category</th>\n",
       "      <th>store_address</th>\n",
       "      <th>latitude</th>\n",
       "      <th>longitude</th>\n",
       "      <th>rating_count</th>\n",
       "      <th>review_time</th>\n",
       "      <th>review</th>\n",
       "      <th>rating</th>\n",
       "    </tr>\n",
       "  </thead>\n",
       "  <tbody>\n",
       "    <tr>\n",
       "      <th>0</th>\n",
       "      <td>0</td>\n",
       "      <td>McDonald's</td>\n",
       "      <td>Fast food restaurant</td>\n",
       "      <td>9814 International Dr, Orlando, FL 32819, Unit...</td>\n",
       "      <td>28.423814</td>\n",
       "      <td>-81.461242</td>\n",
       "      <td>5,468</td>\n",
       "      <td>11 months ago</td>\n",
       "      <td>Very nice staff, good place to get all your fa...</td>\n",
       "      <td>5</td>\n",
       "    </tr>\n",
       "    <tr>\n",
       "      <th>1</th>\n",
       "      <td>1</td>\n",
       "      <td>McDonald's</td>\n",
       "      <td>Fast food restaurant</td>\n",
       "      <td>1100 N US Hwy 377, Roanoke, TX 76262, United S...</td>\n",
       "      <td>33.009318</td>\n",
       "      <td>-97.222925</td>\n",
       "      <td>998</td>\n",
       "      <td>10 months ago</td>\n",
       "      <td>I think the morning shift are one of, if not t...</td>\n",
       "      <td>5</td>\n",
       "    </tr>\n",
       "    <tr>\n",
       "      <th>2</th>\n",
       "      <td>2</td>\n",
       "      <td>McDonald's</td>\n",
       "      <td>Fast food restaurant</td>\n",
       "      <td>490 8th Ave, New York, NY 10001, United States</td>\n",
       "      <td>40.752529</td>\n",
       "      <td>-73.992876</td>\n",
       "      <td>3,902</td>\n",
       "      <td>a year ago</td>\n",
       "      <td>Horrible! Avoid this place at night.  Unsafe. ...</td>\n",
       "      <td>1</td>\n",
       "    </tr>\n",
       "    <tr>\n",
       "      <th>3</th>\n",
       "      <td>3</td>\n",
       "      <td>McDonald's</td>\n",
       "      <td>Fast food restaurant</td>\n",
       "      <td>111 Madison St, Oak Park, IL 60302, United States</td>\n",
       "      <td>41.879656</td>\n",
       "      <td>-87.777913</td>\n",
       "      <td>1,454</td>\n",
       "      <td>9 months ago</td>\n",
       "      <td>Employees too busy window licking to get any o...</td>\n",
       "      <td>1</td>\n",
       "    </tr>\n",
       "    <tr>\n",
       "      <th>4</th>\n",
       "      <td>4</td>\n",
       "      <td>McDonald's</td>\n",
       "      <td>Fast food restaurant</td>\n",
       "      <td>5725 W Irlo Bronson Memorial Hwy, Kissimmee, F...</td>\n",
       "      <td>28.333508</td>\n",
       "      <td>-81.513738</td>\n",
       "      <td>5,566</td>\n",
       "      <td>4 years ago</td>\n",
       "      <td>I'm sorry to give only one star. But during ou...</td>\n",
       "      <td>1</td>\n",
       "    </tr>\n",
       "  </tbody>\n",
       "</table>\n",
       "</div>"
      ],
      "text/plain": [
       "   id  store_name              category  \\\n",
       "0   0  McDonald's  Fast food restaurant   \n",
       "1   1  McDonald's  Fast food restaurant   \n",
       "2   2  McDonald's  Fast food restaurant   \n",
       "3   3  McDonald's  Fast food restaurant   \n",
       "4   4  McDonald's  Fast food restaurant   \n",
       "\n",
       "                                       store_address  latitude   longitude  \\\n",
       "0  9814 International Dr, Orlando, FL 32819, Unit...  28.423814 -81.461242   \n",
       "1  1100 N US Hwy 377, Roanoke, TX 76262, United S...  33.009318 -97.222925   \n",
       "2     490 8th Ave, New York, NY 10001, United States  40.752529 -73.992876   \n",
       "3  111 Madison St, Oak Park, IL 60302, United States  41.879656 -87.777913   \n",
       "4  5725 W Irlo Bronson Memorial Hwy, Kissimmee, F...  28.333508 -81.513738   \n",
       "\n",
       "  rating_count    review_time  \\\n",
       "0        5,468  11 months ago   \n",
       "1          998  10 months ago   \n",
       "2        3,902     a year ago   \n",
       "3        1,454   9 months ago   \n",
       "4        5,566    4 years ago   \n",
       "\n",
       "                                              review  rating  \n",
       "0  Very nice staff, good place to get all your fa...       5  \n",
       "1  I think the morning shift are one of, if not t...       5  \n",
       "2  Horrible! Avoid this place at night.  Unsafe. ...       1  \n",
       "3  Employees too busy window licking to get any o...       1  \n",
       "4  I'm sorry to give only one star. But during ou...       1  "
      ]
     },
     "execution_count": 5,
     "metadata": {},
     "output_type": "execute_result"
    }
   ],
   "source": [
    "train.head()"
   ]
  },
  {
   "cell_type": "code",
   "execution_count": 6,
   "id": "0d7f2be6",
   "metadata": {
    "execution": {
     "iopub.execute_input": "2025-08-20T12:25:46.322299Z",
     "iopub.status.busy": "2025-08-20T12:25:46.321621Z",
     "iopub.status.idle": "2025-08-20T12:25:46.336043Z",
     "shell.execute_reply": "2025-08-20T12:25:46.335141Z"
    },
    "papermill": {
     "duration": 0.022538,
     "end_time": "2025-08-20T12:25:46.337438",
     "exception": false,
     "start_time": "2025-08-20T12:25:46.314900",
     "status": "completed"
    },
    "tags": []
   },
   "outputs": [
    {
     "data": {
      "text/plain": [
       "<bound method DataFrame.info of           id  store_name              category  \\\n",
       "0          0  McDonald's  Fast food restaurant   \n",
       "1          1  McDonald's  Fast food restaurant   \n",
       "2          2  McDonald's  Fast food restaurant   \n",
       "3          3  McDonald's  Fast food restaurant   \n",
       "4          4  McDonald's  Fast food restaurant   \n",
       "...      ...         ...                   ...   \n",
       "26495  26495  McDonald's  Fast food restaurant   \n",
       "26496  26496  McDonald's  Fast food restaurant   \n",
       "26497  26497  McDonald's  Fast food restaurant   \n",
       "26498  26498  McDonald's  Fast food restaurant   \n",
       "26499  26499  McDonald's  Fast food restaurant   \n",
       "\n",
       "                                           store_address  latitude   \\\n",
       "0      9814 International Dr, Orlando, FL 32819, Unit...  28.423814   \n",
       "1      1100 N US Hwy 377, Roanoke, TX 76262, United S...  33.009318   \n",
       "2         490 8th Ave, New York, NY 10001, United States  40.752529   \n",
       "3      111 Madison St, Oak Park, IL 60302, United States  41.879656   \n",
       "4      5725 W Irlo Bronson Memorial Hwy, Kissimmee, F...  28.333508   \n",
       "...                                                  ...        ...   \n",
       "26495  1650 Washington Ave, Miami Beach, FL 33139, Un...  25.790295   \n",
       "26496  1540 2nd St, Santa Monica, CA 90405, United St...  34.012219   \n",
       "26497  210 5th S, Salt Lake City, UT 84106, United St...  40.759057   \n",
       "26498     429 7th Ave, New York, NY 10001, United States  40.750506   \n",
       "26499  5725 W Irlo Bronson Memorial Hwy, Kissimmee, F...  28.333508   \n",
       "\n",
       "        longitude rating_count    review_time  \\\n",
       "0      -81.461242        5,468  11 months ago   \n",
       "1      -97.222925          998  10 months ago   \n",
       "2      -73.992876        3,902     a year ago   \n",
       "3      -87.777913        1,454   9 months ago   \n",
       "4      -81.513738        5,566    4 years ago   \n",
       "...           ...          ...            ...   \n",
       "26495  -80.132077        4,922     a year ago   \n",
       "26496 -118.494540        3,380    4 years ago   \n",
       "26497 -111.897383        3,243   6 months ago   \n",
       "26498  -73.990583        2,052    3 years ago   \n",
       "26499  -81.513738        5,566    3 weeks ago   \n",
       "\n",
       "                                                  review  rating  \n",
       "0      Very nice staff, good place to get all your fa...       5  \n",
       "1      I think the morning shift are one of, if not t...       5  \n",
       "2      Horrible! Avoid this place at night.  Unsafe. ...       1  \n",
       "3      Employees too busy window licking to get any o...       1  \n",
       "4      I'm sorry to give only one star. But during ou...       1  \n",
       "...                                                  ...     ...  \n",
       "26495  Be careful. Rude sketchy employees.They will t...       1  \n",
       "26496  I expect crowding because it's close to the be...       2  \n",
       "26497  Salt Lake City fast becoming a toilet.\\nElect ...       1  \n",
       "26498                                          Good food       4  \n",
       "26499  I came to this mcdonalds to pick up an order f...       1  \n",
       "\n",
       "[26500 rows x 10 columns]>"
      ]
     },
     "execution_count": 6,
     "metadata": {},
     "output_type": "execute_result"
    }
   ],
   "source": [
    "train.info"
   ]
  },
  {
   "cell_type": "code",
   "execution_count": 7,
   "id": "2ecfd76b",
   "metadata": {
    "execution": {
     "iopub.execute_input": "2025-08-20T12:25:46.351346Z",
     "iopub.status.busy": "2025-08-20T12:25:46.351018Z",
     "iopub.status.idle": "2025-08-20T12:25:46.381464Z",
     "shell.execute_reply": "2025-08-20T12:25:46.380556Z"
    },
    "papermill": {
     "duration": 0.039178,
     "end_time": "2025-08-20T12:25:46.383052",
     "exception": false,
     "start_time": "2025-08-20T12:25:46.343874",
     "status": "completed"
    },
    "tags": []
   },
   "outputs": [
    {
     "data": {
      "text/html": [
       "<div>\n",
       "<style scoped>\n",
       "    .dataframe tbody tr th:only-of-type {\n",
       "        vertical-align: middle;\n",
       "    }\n",
       "\n",
       "    .dataframe tbody tr th {\n",
       "        vertical-align: top;\n",
       "    }\n",
       "\n",
       "    .dataframe thead th {\n",
       "        text-align: right;\n",
       "    }\n",
       "</style>\n",
       "<table border=\"1\" class=\"dataframe\">\n",
       "  <thead>\n",
       "    <tr style=\"text-align: right;\">\n",
       "      <th></th>\n",
       "      <th>id</th>\n",
       "      <th>latitude</th>\n",
       "      <th>longitude</th>\n",
       "      <th>rating</th>\n",
       "    </tr>\n",
       "  </thead>\n",
       "  <tbody>\n",
       "    <tr>\n",
       "      <th>count</th>\n",
       "      <td>26500.000000</td>\n",
       "      <td>25976.000000</td>\n",
       "      <td>25976.000000</td>\n",
       "      <td>26500.000000</td>\n",
       "    </tr>\n",
       "    <tr>\n",
       "      <th>mean</th>\n",
       "      <td>13249.500000</td>\n",
       "      <td>34.427152</td>\n",
       "      <td>-90.659226</td>\n",
       "      <td>3.130642</td>\n",
       "    </tr>\n",
       "    <tr>\n",
       "      <th>std</th>\n",
       "      <td>7650.035403</td>\n",
       "      <td>5.336112</td>\n",
       "      <td>16.588603</td>\n",
       "      <td>1.615425</td>\n",
       "    </tr>\n",
       "    <tr>\n",
       "      <th>min</th>\n",
       "      <td>0.000000</td>\n",
       "      <td>25.790295</td>\n",
       "      <td>-121.995421</td>\n",
       "      <td>1.000000</td>\n",
       "    </tr>\n",
       "    <tr>\n",
       "      <th>25%</th>\n",
       "      <td>6624.750000</td>\n",
       "      <td>28.655350</td>\n",
       "      <td>-97.792874</td>\n",
       "      <td>1.000000</td>\n",
       "    </tr>\n",
       "    <tr>\n",
       "      <th>50%</th>\n",
       "      <td>13249.500000</td>\n",
       "      <td>33.931261</td>\n",
       "      <td>-81.471414</td>\n",
       "      <td>3.000000</td>\n",
       "    </tr>\n",
       "    <tr>\n",
       "      <th>75%</th>\n",
       "      <td>19874.250000</td>\n",
       "      <td>40.727401</td>\n",
       "      <td>-75.399919</td>\n",
       "      <td>5.000000</td>\n",
       "    </tr>\n",
       "    <tr>\n",
       "      <th>max</th>\n",
       "      <td>26499.000000</td>\n",
       "      <td>44.981410</td>\n",
       "      <td>-73.459820</td>\n",
       "      <td>5.000000</td>\n",
       "    </tr>\n",
       "  </tbody>\n",
       "</table>\n",
       "</div>"
      ],
      "text/plain": [
       "                 id     latitude      longitude        rating\n",
       "count  26500.000000  25976.000000  25976.000000  26500.000000\n",
       "mean   13249.500000     34.427152    -90.659226      3.130642\n",
       "std     7650.035403      5.336112     16.588603      1.615425\n",
       "min        0.000000     25.790295   -121.995421      1.000000\n",
       "25%     6624.750000     28.655350    -97.792874      1.000000\n",
       "50%    13249.500000     33.931261    -81.471414      3.000000\n",
       "75%    19874.250000     40.727401    -75.399919      5.000000\n",
       "max    26499.000000     44.981410    -73.459820      5.000000"
      ]
     },
     "execution_count": 7,
     "metadata": {},
     "output_type": "execute_result"
    }
   ],
   "source": [
    "train.describe()"
   ]
  },
  {
   "cell_type": "markdown",
   "id": "cd9a4fb9",
   "metadata": {
    "papermill": {
     "duration": 0.006092,
     "end_time": "2025-08-20T12:25:46.395657",
     "exception": false,
     "start_time": "2025-08-20T12:25:46.389565",
     "status": "completed"
    },
    "tags": []
   },
   "source": [
    "**In this step, we handle missing values, duplicates, and outliers. We also transform `rating_count` into integers and convert relative times in `review_time` into approximate months.\n",
    "Additional features such as review length and word count are created.**"
   ]
  },
  {
   "cell_type": "code",
   "execution_count": 8,
   "id": "a8556fc8",
   "metadata": {
    "execution": {
     "iopub.execute_input": "2025-08-20T12:25:46.409657Z",
     "iopub.status.busy": "2025-08-20T12:25:46.409335Z",
     "iopub.status.idle": "2025-08-20T12:25:46.426830Z",
     "shell.execute_reply": "2025-08-20T12:25:46.425967Z"
    },
    "papermill": {
     "duration": 0.026144,
     "end_time": "2025-08-20T12:25:46.428215",
     "exception": false,
     "start_time": "2025-08-20T12:25:46.402071",
     "status": "completed"
    },
    "tags": []
   },
   "outputs": [
    {
     "data": {
      "text/plain": [
       "id                 0\n",
       "store_name         0\n",
       "category           0\n",
       "store_address      0\n",
       "latitude         524\n",
       "longitude        524\n",
       "rating_count       0\n",
       "review_time        0\n",
       "review             0\n",
       "rating             0\n",
       "dtype: int64"
      ]
     },
     "execution_count": 8,
     "metadata": {},
     "output_type": "execute_result"
    }
   ],
   "source": [
    "train.isnull().sum()"
   ]
  },
  {
   "cell_type": "code",
   "execution_count": 9,
   "id": "39ac8d68",
   "metadata": {
    "execution": {
     "iopub.execute_input": "2025-08-20T12:25:46.442625Z",
     "iopub.status.busy": "2025-08-20T12:25:46.442318Z",
     "iopub.status.idle": "2025-08-20T12:25:46.480652Z",
     "shell.execute_reply": "2025-08-20T12:25:46.479793Z"
    },
    "papermill": {
     "duration": 0.047247,
     "end_time": "2025-08-20T12:25:46.482129",
     "exception": false,
     "start_time": "2025-08-20T12:25:46.434882",
     "status": "completed"
    },
    "tags": []
   },
   "outputs": [
    {
     "data": {
      "text/plain": [
       "0"
      ]
     },
     "execution_count": 9,
     "metadata": {},
     "output_type": "execute_result"
    }
   ],
   "source": [
    "train.duplicated().sum()"
   ]
  },
  {
   "cell_type": "markdown",
   "id": "2f294e6c",
   "metadata": {
    "papermill": {
     "duration": 0.006985,
     "end_time": "2025-08-20T12:25:46.495942",
     "exception": false,
     "start_time": "2025-08-20T12:25:46.488957",
     "status": "completed"
    },
    "tags": []
   },
   "source": [
    "# Data Cleaning"
   ]
  },
  {
   "cell_type": "markdown",
   "id": "4520759d",
   "metadata": {
    "papermill": {
     "duration": 0.006482,
     "end_time": "2025-08-20T12:25:46.509351",
     "exception": false,
     "start_time": "2025-08-20T12:25:46.502869",
     "status": "completed"
    },
    "tags": []
   },
   "source": [
    "**Now we will clean the data set in such a manner that it contains only numeric data , and other forms of charecters are removed**"
   ]
  },
  {
   "cell_type": "code",
   "execution_count": 10,
   "id": "d42c81a9",
   "metadata": {
    "execution": {
     "iopub.execute_input": "2025-08-20T12:25:46.524441Z",
     "iopub.status.busy": "2025-08-20T12:25:46.524170Z",
     "iopub.status.idle": "2025-08-20T12:25:46.813242Z",
     "shell.execute_reply": "2025-08-20T12:25:46.812148Z"
    },
    "papermill": {
     "duration": 0.298238,
     "end_time": "2025-08-20T12:25:46.814814",
     "exception": false,
     "start_time": "2025-08-20T12:25:46.516576",
     "status": "completed"
    },
    "tags": []
   },
   "outputs": [],
   "source": [
    "# Helper: rating_count -> int (remove commas, non-digits)\n",
    "def clean_rating_count(s):\n",
    "    if pd.isnull(s):\n",
    "        return np.nan\n",
    "    return int(re.sub(r\"[^0-9]\", \"\", str(s)) or 0)\n",
    "\n",
    "\n",
    "# Helper: convert review_time ('a year ago', '2 months ago', etc.) -> approx months\n",
    "def parse_review_time(s):\n",
    "    if pd.isnull(s):\n",
    "        return np.nan\n",
    "    s = str(s).lower()\n",
    "    if 'year' in s:\n",
    "        n = 1 if s.strip().startswith('a ') else int(re.findall(r\"\\d+\", s)[0])\n",
    "        return n * 12\n",
    "    if 'month' in s:\n",
    "        n = 1 if s.strip().startswith('a ') else int(re.findall(r\"\\d+\", s)[0])\n",
    "        return n\n",
    "    if 'day' in s:\n",
    "        return 0\n",
    "        return np.nan\n",
    "\n",
    "\n",
    "for df in [train, test]:\n",
    "    if 'rating_count' in df.columns:\n",
    "        df['rating_count'] = df['rating_count'].apply(clean_rating_count)\n",
    "    if 'review_time' in df.columns:\n",
    "        df['review_time_months'] = df['review_time'].apply(parse_review_time)\n",
    "    if 'review' in df.columns:\n",
    "        df['review_len'] = df['review'].astype(str).str.len()\n",
    "        df['review_words'] = df['review'].astype(str).str.split().apply(len)"
   ]
  },
  {
   "cell_type": "code",
   "execution_count": 11,
   "id": "5b2c1885",
   "metadata": {
    "execution": {
     "iopub.execute_input": "2025-08-20T12:25:46.829927Z",
     "iopub.status.busy": "2025-08-20T12:25:46.829552Z",
     "iopub.status.idle": "2025-08-20T12:25:46.840401Z",
     "shell.execute_reply": "2025-08-20T12:25:46.839484Z"
    },
    "papermill": {
     "duration": 0.019971,
     "end_time": "2025-08-20T12:25:46.842137",
     "exception": false,
     "start_time": "2025-08-20T12:25:46.822166",
     "status": "completed"
    },
    "tags": []
   },
   "outputs": [],
   "source": [
    "for col in ['rating_count','review_time_months','review_len','review_words','latitude','longitude']:\n",
    "    if col in train.columns:\n",
    "        med = train[col].median()\n",
    "        train[col] = train[col].fillna(med)\n",
    "    if col in test.columns:\n",
    "        test[col] = test[col].fillna(med)"
   ]
  },
  {
   "cell_type": "markdown",
   "id": "af3b0a44",
   "metadata": {
    "papermill": {
     "duration": 0.006416,
     "end_time": "2025-08-20T12:25:46.855353",
     "exception": false,
     "start_time": "2025-08-20T12:25:46.848937",
     "status": "completed"
    },
    "tags": []
   },
   "source": [
    "# Visualization ( EDA )"
   ]
  },
  {
   "cell_type": "markdown",
   "id": "794f0810",
   "metadata": {
    "papermill": {
     "duration": 0.006303,
     "end_time": "2025-08-20T12:25:46.868387",
     "exception": false,
     "start_time": "2025-08-20T12:25:46.862084",
     "status": "completed"
    },
    "tags": []
   },
   "source": [
    "**We create at least 3 visualizations to understand data patterns:\n",
    "Distribution of target ratings\n",
    "Relationship between review length and rating\n",
    "Correlation heatmap for numerical features**"
   ]
  },
  {
   "cell_type": "code",
   "execution_count": 12,
   "id": "89f6f6a2",
   "metadata": {
    "execution": {
     "iopub.execute_input": "2025-08-20T12:25:46.883329Z",
     "iopub.status.busy": "2025-08-20T12:25:46.882602Z",
     "iopub.status.idle": "2025-08-20T12:25:47.250641Z",
     "shell.execute_reply": "2025-08-20T12:25:47.249571Z"
    },
    "papermill": {
     "duration": 0.377203,
     "end_time": "2025-08-20T12:25:47.252334",
     "exception": false,
     "start_time": "2025-08-20T12:25:46.875131",
     "status": "completed"
    },
    "tags": []
   },
   "outputs": [
    {
     "data": {
      "image/png": "[encoded data removed]",
      "text/plain": [
       "<Figure size 640x480 with 1 Axes>"
      ]
     },
     "metadata": {},
     "output_type": "display_data"
    }
   ],
   "source": [
    "if 'rating' in train.columns:\n",
    "    train['rating'].value_counts().sort_index().plot(kind='bar')\n",
    "    plt.title('Rating distribution')\n",
    "    plt.xlabel('Rating')\n",
    "    plt.ylabel('Count')\n",
    "    plt.show()"
   ]
  },
  {
   "cell_type": "code",
   "execution_count": 13,
   "id": "b425ab82",
   "metadata": {
    "execution": {
     "iopub.execute_input": "2025-08-20T12:25:47.268103Z",
     "iopub.status.busy": "2025-08-20T12:25:47.267798Z",
     "iopub.status.idle": "2025-08-20T12:25:47.462427Z",
     "shell.execute_reply": "2025-08-20T12:25:47.461226Z"
    },
    "papermill": {
     "duration": 0.204283,
     "end_time": "2025-08-20T12:25:47.464036",
     "exception": false,
     "start_time": "2025-08-20T12:25:47.259753",
     "status": "completed"
    },
    "tags": []
   },
   "outputs": [
    {
     "data": {
      "image/png": "[encoded data removed]",
      "text/plain": [
       "<Figure size 640x480 with 1 Axes>"
      ]
     },
     "metadata": {},
     "output_type": "display_data"
    }
   ],
   "source": [
    "if {'rating','review_len'}.issubset(train.columns):\n",
    "    sns.boxplot(data=train, x='rating', y='review_len')\n",
    "    plt.title('Review length vs Rating')\n",
    "    plt.show()"
   ]
  },
  {
   "cell_type": "code",
   "execution_count": 14,
   "id": "c1c2f68d",
   "metadata": {
    "execution": {
     "iopub.execute_input": "2025-08-20T12:25:47.481595Z",
     "iopub.status.busy": "2025-08-20T12:25:47.481216Z",
     "iopub.status.idle": "2025-08-20T12:25:47.761108Z",
     "shell.execute_reply": "2025-08-20T12:25:47.760226Z"
    },
    "papermill": {
     "duration": 0.290184,
     "end_time": "2025-08-20T12:25:47.762571",
     "exception": false,
     "start_time": "2025-08-20T12:25:47.472387",
     "status": "completed"
    },
    "tags": []
   },
   "outputs": [
    {
     "data": {
      "image/png": "[encoded data removed]",
      "text/plain": [
       "<Figure size 600x400 with 2 Axes>"
      ]
     },
     "metadata": {},
     "output_type": "display_data"
    }
   ],
   "source": [
    "num_cols_vis = train.select_dtypes(include=[np.number]).columns\n",
    "if len(num_cols_vis) > 1:\n",
    "    corr = train[num_cols_vis].corr()\n",
    "    plt.figure(figsize=(6,4))\n",
    "    sns.heatmap(corr, annot=False)\n",
    "    plt.title('Correlation Heatmap (numeric features)')\n",
    "    plt.show()"
   ]
  },
  {
   "cell_type": "markdown",
   "id": "6719ee44",
   "metadata": {
    "papermill": {
     "duration": 0.008002,
     "end_time": "2025-08-20T12:25:47.779307",
     "exception": false,
     "start_time": "2025-08-20T12:25:47.771305",
     "status": "completed"
    },
    "tags": []
   },
   "source": [
    "# Preprocessing & Features"
   ]
  },
  {
   "cell_type": "markdown",
   "id": "ee79e402",
   "metadata": {
    "papermill": {
     "duration": 0.008168,
     "end_time": "2025-08-20T12:25:47.795783",
     "exception": false,
     "start_time": "2025-08-20T12:25:47.787615",
     "status": "completed"
    },
    "tags": []
   },
   "source": [
    "**We prepare the data for modeling using a ColumnTransformer:**\n",
    "\n",
    "**TF-IDF vectorization for text reviews**\n",
    "\n",
    "**One-hot encoding for categorical features**\n",
    "\n",
    "**Scaling for numeric features**"
   ]
  },
  {
   "cell_type": "code",
   "execution_count": 15,
   "id": "bbbc4852",
   "metadata": {
    "execution": {
     "iopub.execute_input": "2025-08-20T12:25:47.813785Z",
     "iopub.status.busy": "2025-08-20T12:25:47.813427Z",
     "iopub.status.idle": "2025-08-20T12:25:47.819523Z",
     "shell.execute_reply": "2025-08-20T12:25:47.818847Z"
    },
    "papermill": {
     "duration": 0.016845,
     "end_time": "2025-08-20T12:25:47.821044",
     "exception": false,
     "start_time": "2025-08-20T12:25:47.804199",
     "status": "completed"
    },
    "tags": []
   },
   "outputs": [],
   "source": [
    "text_col = 'review'\n",
    "cat_cols = [c for c in ['store_name','category'] if c in train.columns]\n",
    "num_cols = [c for c in ['rating_count','review_time_months','review_len','review_words','latitude','longitude'] if c in train.columns]\n",
    "\n",
    "\n",
    "tfidf = TfidfVectorizer(max_features=30000, ngram_range=(1,2), min_df=2)\n",
    "ohe = OneHotEncoder(handle_unknown='ignore', sparse=True)\n",
    "scaler = StandardScaler(with_mean=False)\n",
    "\n",
    "\n",
    "preprocess = ColumnTransformer(\n",
    "transformers=[\n",
    "('txt', tfidf, text_col),\n",
    "('cat', ohe, cat_cols),\n",
    "('num', scaler, num_cols)\n",
    "],\n",
    "remainder='drop'\n",
    ")"
   ]
  },
  {
   "cell_type": "code",
   "execution_count": 16,
   "id": "f9b4d1da",
   "metadata": {
    "execution": {
     "iopub.execute_input": "2025-08-20T12:25:47.839603Z",
     "iopub.status.busy": "2025-08-20T12:25:47.839269Z",
     "iopub.status.idle": "2025-08-20T12:25:47.865744Z",
     "shell.execute_reply": "2025-08-20T12:25:47.864693Z"
    },
    "papermill": {
     "duration": 0.037526,
     "end_time": "2025-08-20T12:25:47.867418",
     "exception": false,
     "start_time": "2025-08-20T12:25:47.829892",
     "status": "completed"
    },
    "tags": []
   },
   "outputs": [
    {
     "name": "stdout",
     "output_type": "stream",
     "text": [
      "Train/Valid shapes: (21200, 12) (5300, 12)\n"
     ]
    }
   ],
   "source": [
    "X = train.drop(columns=['rating'])\n",
    "y = train['rating']\n",
    "X_train, X_valid, y_train, y_valid = train_test_split(X, y, test_size=0.2, random_state=42, stratify=y)\n",
    "print(\"Train/Valid shapes:\", X_train.shape, X_valid.shape)"
   ]
  },
  {
   "cell_type": "markdown",
   "id": "84572b8a",
   "metadata": {
    "papermill": {
     "duration": 0.00857,
     "end_time": "2025-08-20T12:25:47.949089",
     "exception": false,
     "start_time": "2025-08-20T12:25:47.940519",
     "status": "completed"
    },
    "tags": []
   },
   "source": [
    "# Baseline & 7 Models"
   ]
  },
  {
   "cell_type": "markdown",
   "id": "df15830b",
   "metadata": {
    "papermill": {
     "duration": 0.008423,
     "end_time": "2025-08-20T12:25:47.966536",
     "exception": false,
     "start_time": "2025-08-20T12:25:47.958113",
     "status": "completed"
    },
    "tags": []
   },
   "source": [
    "**We train at least 7 baseline models to compare their performances.\n",
    "These include Logistic Regression, Decision Tree, Random Forest, KNN, SVM, Gradient Boosting, and Naive Bayes.**"
   ]
  },
  {
   "cell_type": "code",
   "execution_count": 17,
   "id": "22ea16f8",
   "metadata": {
    "execution": {
     "iopub.execute_input": "2025-08-20T12:25:47.987751Z",
     "iopub.status.busy": "2025-08-20T12:25:47.986593Z",
     "iopub.status.idle": "2025-08-20T12:25:47.992903Z",
     "shell.execute_reply": "2025-08-20T12:25:47.991753Z"
    },
    "papermill": {
     "duration": 0.017826,
     "end_time": "2025-08-20T12:25:47.994475",
     "exception": false,
     "start_time": "2025-08-20T12:25:47.976649",
     "status": "completed"
    },
    "tags": []
   },
   "outputs": [],
   "source": [
    "models = {\n",
    "'LogisticRegression': LogisticRegression(max_iter=300),\n",
    "'DecisionTree': DecisionTreeClassifier(random_state=42),\n",
    "'RandomForest': RandomForestClassifier(n_estimators=200, random_state=42),\n",
    "'KNN': KNeighborsClassifier(n_neighbors=15),\n",
    "'LinearSVC': LinearSVC(),\n",
    "'GradientBoosting': GradientBoostingClassifier(random_state=42),\n",
    "}"
   ]
  },
  {
   "cell_type": "code",
   "execution_count": 18,
   "id": "e1ece882",
   "metadata": {
    "execution": {
     "iopub.execute_input": "2025-08-20T12:25:48.014585Z",
     "iopub.status.busy": "2025-08-20T12:25:48.014181Z",
     "iopub.status.idle": "2025-08-20T12:32:43.952802Z",
     "shell.execute_reply": "2025-08-20T12:32:43.951885Z"
    },
    "papermill": {
     "duration": 415.959038,
     "end_time": "2025-08-20T12:32:43.962877",
     "exception": false,
     "start_time": "2025-08-20T12:25:48.003839",
     "status": "completed"
    },
    "tags": []
   },
   "outputs": [
    {
     "name": "stdout",
     "output_type": "stream",
     "text": [
      "GradientBoosting: acc=0.6377 f1w=0.5996\n"
     ]
    }
   ],
   "source": [
    "results = []\n",
    "for name, clf in models.items():\n",
    "    pipe = Pipeline(steps=[('prep', preprocess), ('clf', clf)])\n",
    "    pipe.fit(X_train, y_train)\n",
    "preds = pipe.predict(X_valid)\n",
    "acc = accuracy_score(y_valid, preds)\n",
    "f1 = f1_score(y_valid, preds, average='weighted')\n",
    "results.append((name, acc, f1, pipe))\n",
    "print(f\"{name}: acc={acc:.4f} f1w={f1:.4f}\")"
   ]
  },
  {
   "cell_type": "code",
   "execution_count": 19,
   "id": "8a9073a7",
   "metadata": {
    "execution": {
     "iopub.execute_input": "2025-08-20T12:32:43.982230Z",
     "iopub.status.busy": "2025-08-20T12:32:43.981892Z",
     "iopub.status.idle": "2025-08-20T12:32:45.683853Z",
     "shell.execute_reply": "2025-08-20T12:32:45.682792Z"
    },
    "papermill": {
     "duration": 1.713484,
     "end_time": "2025-08-20T12:32:45.685539",
     "exception": false,
     "start_time": "2025-08-20T12:32:43.972055",
     "status": "completed"
    },
    "tags": []
   },
   "outputs": [
    {
     "name": "stdout",
     "output_type": "stream",
     "text": [
      "MultinomialNB_TextOnly: acc=0.6342 f1w=0.5766\n"
     ]
    },
    {
     "data": {
      "text/html": [
       "<div>\n",
       "<style scoped>\n",
       "    .dataframe tbody tr th:only-of-type {\n",
       "        vertical-align: middle;\n",
       "    }\n",
       "\n",
       "    .dataframe tbody tr th {\n",
       "        vertical-align: top;\n",
       "    }\n",
       "\n",
       "    .dataframe thead th {\n",
       "        text-align: right;\n",
       "    }\n",
       "</style>\n",
       "<table border=\"1\" class=\"dataframe\">\n",
       "  <thead>\n",
       "    <tr style=\"text-align: right;\">\n",
       "      <th></th>\n",
       "      <th>Model</th>\n",
       "      <th>Accuracy</th>\n",
       "      <th>F1</th>\n",
       "    </tr>\n",
       "  </thead>\n",
       "  <tbody>\n",
       "    <tr>\n",
       "      <th>0</th>\n",
       "      <td>GradientBoosting</td>\n",
       "      <td>0.637736</td>\n",
       "      <td>0.599643</td>\n",
       "    </tr>\n",
       "    <tr>\n",
       "      <th>1</th>\n",
       "      <td>MultinomialNB_TextOnly</td>\n",
       "      <td>0.634151</td>\n",
       "      <td>0.576605</td>\n",
       "    </tr>\n",
       "  </tbody>\n",
       "</table>\n",
       "</div>"
      ],
      "text/plain": [
       "                    Model  Accuracy        F1\n",
       "0        GradientBoosting  0.637736  0.599643\n",
       "1  MultinomialNB_TextOnly  0.634151  0.576605"
      ]
     },
     "metadata": {},
     "output_type": "display_data"
    },
    {
     "data": {
      "image/png": "[encoded data removed]",
      "text/plain": [
       "<Figure size 800x400 with 1 Axes>"
      ]
     },
     "metadata": {},
     "output_type": "display_data"
    }
   ],
   "source": [
    "nb_pipeline = Pipeline(steps=[('tfidf', TfidfVectorizer(max_features=30000, ngram_range=(1,2), min_df=2)),\n",
    "('clf', MultinomialNB())])\n",
    "nb_pipeline.fit(X_train[text_col].astype(str), y_train)\n",
    "nb_preds = nb_pipeline.predict(X_valid[text_col].astype(str))\n",
    "nb_acc = accuracy_score(y_valid, nb_preds)\n",
    "nb_f1 = f1_score(y_valid, nb_preds, average='weighted')\n",
    "results.append(('MultinomialNB_TextOnly', nb_acc, nb_f1, nb_pipeline))\n",
    "print(f\"MultinomialNB_TextOnly: acc={nb_acc:.4f} f1w={nb_f1:.4f}\")\n",
    "\n",
    "\n",
    "score_df = pd.DataFrame(results, columns=['Model','Accuracy','F1','Pipeline']).sort_values('F1', ascending=False)\n",
    "display(score_df[['Model','Accuracy','F1']])\n",
    "\n",
    "\n",
    "plt.figure(figsize=(8,4))\n",
    "plt.bar(score_df['Model'], score_df['F1'])\n",
    "plt.xticks(rotation=45, ha='right')\n",
    "plt.ylabel('F1 (weighted)')\n",
    "plt.title('Baseline Model Comparison')\n",
    "plt.tight_layout()\n",
    "plt.show()"
   ]
  },
  {
   "cell_type": "markdown",
   "id": "fea7a4a6",
   "metadata": {
    "papermill": {
     "duration": 0.009266,
     "end_time": "2025-08-20T12:32:45.704692",
     "exception": false,
     "start_time": "2025-08-20T12:32:45.695426",
     "status": "completed"
    },
    "tags": []
   },
   "source": [
    "# Hyperparameter Tuning (≥3 models)"
   ]
  },
  {
   "cell_type": "markdown",
   "id": "a4cc3538",
   "metadata": {
    "papermill": {
     "duration": 0.009199,
     "end_time": "2025-08-20T12:32:45.723557",
     "exception": false,
     "start_time": "2025-08-20T12:32:45.714358",
     "status": "completed"
    },
    "tags": []
   },
   "source": [
    "**We tune at least 3 models (RandomForest, LinearSVC, LogisticRegression) using GridSearchCV.\n",
    "This helps us find the best parameters for improved performance.**"
   ]
  },
  {
   "cell_type": "code",
   "execution_count": 20,
   "id": "63b34a84",
   "metadata": {
    "execution": {
     "iopub.execute_input": "2025-08-20T12:32:45.744273Z",
     "iopub.status.busy": "2025-08-20T12:32:45.743940Z",
     "iopub.status.idle": "2025-08-20T12:55:02.019786Z",
     "shell.execute_reply": "2025-08-20T12:55:02.018787Z"
    },
    "papermill": {
     "duration": 1336.310045,
     "end_time": "2025-08-20T12:55:02.043293",
     "exception": false,
     "start_time": "2025-08-20T12:32:45.733248",
     "status": "completed"
    },
    "tags": []
   },
   "outputs": [
    {
     "name": "stderr",
     "output_type": "stream",
     "text": [
      "/usr/local/lib/python3.11/dist-packages/sklearn/preprocessing/_encoders.py:868: FutureWarning: `sparse` was renamed to `sparse_output` in version 1.2 and will be removed in 1.4. `sparse_output` is ignored unless you leave `sparse` to its default value.\n",
      "  warnings.warn(\n",
      "/usr/local/lib/python3.11/dist-packages/sklearn/preprocessing/_encoders.py:868: FutureWarning: `sparse` was renamed to `sparse_output` in version 1.2 and will be removed in 1.4. `sparse_output` is ignored unless you leave `sparse` to its default value.\n",
      "  warnings.warn(\n",
      "/usr/local/lib/python3.11/dist-packages/sklearn/preprocessing/_encoders.py:868: FutureWarning: `sparse` was renamed to `sparse_output` in version 1.2 and will be removed in 1.4. `sparse_output` is ignored unless you leave `sparse` to its default value.\n",
      "  warnings.warn(\n",
      "/usr/local/lib/python3.11/dist-packages/sklearn/preprocessing/_encoders.py:868: FutureWarning: `sparse` was renamed to `sparse_output` in version 1.2 and will be removed in 1.4. `sparse_output` is ignored unless you leave `sparse` to its default value.\n",
      "  warnings.warn(\n",
      "/usr/local/lib/python3.11/dist-packages/sklearn/preprocessing/_encoders.py:868: FutureWarning: `sparse` was renamed to `sparse_output` in version 1.2 and will be removed in 1.4. `sparse_output` is ignored unless you leave `sparse` to its default value.\n",
      "  warnings.warn(\n",
      "/usr/local/lib/python3.11/dist-packages/sklearn/preprocessing/_encoders.py:868: FutureWarning: `sparse` was renamed to `sparse_output` in version 1.2 and will be removed in 1.4. `sparse_output` is ignored unless you leave `sparse` to its default value.\n",
      "  warnings.warn(\n",
      "/usr/local/lib/python3.11/dist-packages/sklearn/preprocessing/_encoders.py:868: FutureWarning: `sparse` was renamed to `sparse_output` in version 1.2 and will be removed in 1.4. `sparse_output` is ignored unless you leave `sparse` to its default value.\n",
      "  warnings.warn(\n",
      "/usr/local/lib/python3.11/dist-packages/sklearn/preprocessing/_encoders.py:868: FutureWarning: `sparse` was renamed to `sparse_output` in version 1.2 and will be removed in 1.4. `sparse_output` is ignored unless you leave `sparse` to its default value.\n",
      "  warnings.warn(\n",
      "/usr/local/lib/python3.11/dist-packages/sklearn/preprocessing/_encoders.py:868: FutureWarning: `sparse` was renamed to `sparse_output` in version 1.2 and will be removed in 1.4. `sparse_output` is ignored unless you leave `sparse` to its default value.\n",
      "  warnings.warn(\n",
      "/usr/local/lib/python3.11/dist-packages/sklearn/preprocessing/_encoders.py:868: FutureWarning: `sparse` was renamed to `sparse_output` in version 1.2 and will be removed in 1.4. `sparse_output` is ignored unless you leave `sparse` to its default value.\n",
      "  warnings.warn(\n",
      "/usr/local/lib/python3.11/dist-packages/sklearn/preprocessing/_encoders.py:868: FutureWarning: `sparse` was renamed to `sparse_output` in version 1.2 and will be removed in 1.4. `sparse_output` is ignored unless you leave `sparse` to its default value.\n",
      "  warnings.warn(\n",
      "/usr/local/lib/python3.11/dist-packages/sklearn/preprocessing/_encoders.py:868: FutureWarning: `sparse` was renamed to `sparse_output` in version 1.2 and will be removed in 1.4. `sparse_output` is ignored unless you leave `sparse` to its default value.\n",
      "  warnings.warn(\n",
      "/usr/local/lib/python3.11/dist-packages/sklearn/preprocessing/_encoders.py:868: FutureWarning: `sparse` was renamed to `sparse_output` in version 1.2 and will be removed in 1.4. `sparse_output` is ignored unless you leave `sparse` to its default value.\n",
      "  warnings.warn(\n",
      "/usr/local/lib/python3.11/dist-packages/sklearn/preprocessing/_encoders.py:868: FutureWarning: `sparse` was renamed to `sparse_output` in version 1.2 and will be removed in 1.4. `sparse_output` is ignored unless you leave `sparse` to its default value.\n",
      "  warnings.warn(\n",
      "/usr/local/lib/python3.11/dist-packages/sklearn/preprocessing/_encoders.py:868: FutureWarning: `sparse` was renamed to `sparse_output` in version 1.2 and will be removed in 1.4. `sparse_output` is ignored unless you leave `sparse` to its default value.\n",
      "  warnings.warn(\n",
      "/usr/local/lib/python3.11/dist-packages/sklearn/preprocessing/_encoders.py:868: FutureWarning: `sparse` was renamed to `sparse_output` in version 1.2 and will be removed in 1.4. `sparse_output` is ignored unless you leave `sparse` to its default value.\n",
      "  warnings.warn(\n",
      "/usr/local/lib/python3.11/dist-packages/sklearn/preprocessing/_encoders.py:868: FutureWarning: `sparse` was renamed to `sparse_output` in version 1.2 and will be removed in 1.4. `sparse_output` is ignored unless you leave `sparse` to its default value.\n",
      "  warnings.warn(\n",
      "/usr/local/lib/python3.11/dist-packages/sklearn/preprocessing/_encoders.py:868: FutureWarning: `sparse` was renamed to `sparse_output` in version 1.2 and will be removed in 1.4. `sparse_output` is ignored unless you leave `sparse` to its default value.\n",
      "  warnings.warn(\n",
      "/usr/local/lib/python3.11/dist-packages/sklearn/preprocessing/_encoders.py:868: FutureWarning: `sparse` was renamed to `sparse_output` in version 1.2 and will be removed in 1.4. `sparse_output` is ignored unless you leave `sparse` to its default value.\n",
      "  warnings.warn(\n",
      "/usr/local/lib/python3.11/dist-packages/sklearn/preprocessing/_encoders.py:868: FutureWarning: `sparse` was renamed to `sparse_output` in version 1.2 and will be removed in 1.4. `sparse_output` is ignored unless you leave `sparse` to its default value.\n",
      "  warnings.warn(\n",
      "/usr/local/lib/python3.11/dist-packages/sklearn/preprocessing/_encoders.py:868: FutureWarning: `sparse` was renamed to `sparse_output` in version 1.2 and will be removed in 1.4. `sparse_output` is ignored unless you leave `sparse` to its default value.\n",
      "  warnings.warn(\n",
      "/usr/local/lib/python3.11/dist-packages/sklearn/preprocessing/_encoders.py:868: FutureWarning: `sparse` was renamed to `sparse_output` in version 1.2 and will be removed in 1.4. `sparse_output` is ignored unless you leave `sparse` to its default value.\n",
      "  warnings.warn(\n",
      "/usr/local/lib/python3.11/dist-packages/sklearn/preprocessing/_encoders.py:868: FutureWarning: `sparse` was renamed to `sparse_output` in version 1.2 and will be removed in 1.4. `sparse_output` is ignored unless you leave `sparse` to its default value.\n",
      "  warnings.warn(\n",
      "/usr/local/lib/python3.11/dist-packages/sklearn/preprocessing/_encoders.py:868: FutureWarning: `sparse` was renamed to `sparse_output` in version 1.2 and will be removed in 1.4. `sparse_output` is ignored unless you leave `sparse` to its default value.\n",
      "  warnings.warn(\n",
      "/usr/local/lib/python3.11/dist-packages/sklearn/preprocessing/_encoders.py:868: FutureWarning: `sparse` was renamed to `sparse_output` in version 1.2 and will be removed in 1.4. `sparse_output` is ignored unless you leave `sparse` to its default value.\n",
      "  warnings.warn(\n",
      "/usr/local/lib/python3.11/dist-packages/sklearn/preprocessing/_encoders.py:868: FutureWarning: `sparse` was renamed to `sparse_output` in version 1.2 and will be removed in 1.4. `sparse_output` is ignored unless you leave `sparse` to its default value.\n",
      "  warnings.warn(\n",
      "/usr/local/lib/python3.11/dist-packages/sklearn/preprocessing/_encoders.py:868: FutureWarning: `sparse` was renamed to `sparse_output` in version 1.2 and will be removed in 1.4. `sparse_output` is ignored unless you leave `sparse` to its default value.\n",
      "  warnings.warn(\n",
      "/usr/local/lib/python3.11/dist-packages/sklearn/preprocessing/_encoders.py:868: FutureWarning: `sparse` was renamed to `sparse_output` in version 1.2 and will be removed in 1.4. `sparse_output` is ignored unless you leave `sparse` to its default value.\n",
      "  warnings.warn(\n",
      "/usr/local/lib/python3.11/dist-packages/sklearn/preprocessing/_encoders.py:868: FutureWarning: `sparse` was renamed to `sparse_output` in version 1.2 and will be removed in 1.4. `sparse_output` is ignored unless you leave `sparse` to its default value.\n",
      "  warnings.warn(\n",
      "/usr/local/lib/python3.11/dist-packages/sklearn/preprocessing/_encoders.py:868: FutureWarning: `sparse` was renamed to `sparse_output` in version 1.2 and will be removed in 1.4. `sparse_output` is ignored unless you leave `sparse` to its default value.\n",
      "  warnings.warn(\n",
      "/usr/local/lib/python3.11/dist-packages/sklearn/preprocessing/_encoders.py:868: FutureWarning: `sparse` was renamed to `sparse_output` in version 1.2 and will be removed in 1.4. `sparse_output` is ignored unless you leave `sparse` to its default value.\n",
      "  warnings.warn(\n",
      "/usr/local/lib/python3.11/dist-packages/sklearn/preprocessing/_encoders.py:868: FutureWarning: `sparse` was renamed to `sparse_output` in version 1.2 and will be removed in 1.4. `sparse_output` is ignored unless you leave `sparse` to its default value.\n",
      "  warnings.warn(\n",
      "/usr/local/lib/python3.11/dist-packages/sklearn/preprocessing/_encoders.py:868: FutureWarning: `sparse` was renamed to `sparse_output` in version 1.2 and will be removed in 1.4. `sparse_output` is ignored unless you leave `sparse` to its default value.\n",
      "  warnings.warn(\n",
      "/usr/local/lib/python3.11/dist-packages/sklearn/preprocessing/_encoders.py:868: FutureWarning: `sparse` was renamed to `sparse_output` in version 1.2 and will be removed in 1.4. `sparse_output` is ignored unless you leave `sparse` to its default value.\n",
      "  warnings.warn(\n",
      "/usr/local/lib/python3.11/dist-packages/sklearn/preprocessing/_encoders.py:868: FutureWarning: `sparse` was renamed to `sparse_output` in version 1.2 and will be removed in 1.4. `sparse_output` is ignored unless you leave `sparse` to its default value.\n",
      "  warnings.warn(\n",
      "/usr/local/lib/python3.11/dist-packages/sklearn/preprocessing/_encoders.py:868: FutureWarning: `sparse` was renamed to `sparse_output` in version 1.2 and will be removed in 1.4. `sparse_output` is ignored unless you leave `sparse` to its default value.\n",
      "  warnings.warn(\n"
     ]
    },
    {
     "name": "stdout",
     "output_type": "stream",
     "text": [
      "RF best: {'clf__max_depth': None, 'clf__min_samples_split': 5, 'clf__n_estimators': 400} score: 0.6290613805918234\n"
     ]
    },
    {
     "name": "stderr",
     "output_type": "stream",
     "text": [
      "/usr/local/lib/python3.11/dist-packages/sklearn/preprocessing/_encoders.py:868: FutureWarning: `sparse` was renamed to `sparse_output` in version 1.2 and will be removed in 1.4. `sparse_output` is ignored unless you leave `sparse` to its default value.\n",
      "  warnings.warn(\n",
      "/usr/local/lib/python3.11/dist-packages/sklearn/preprocessing/_encoders.py:868: FutureWarning: `sparse` was renamed to `sparse_output` in version 1.2 and will be removed in 1.4. `sparse_output` is ignored unless you leave `sparse` to its default value.\n",
      "  warnings.warn(\n",
      "/usr/local/lib/python3.11/dist-packages/sklearn/preprocessing/_encoders.py:868: FutureWarning: `sparse` was renamed to `sparse_output` in version 1.2 and will be removed in 1.4. `sparse_output` is ignored unless you leave `sparse` to its default value.\n",
      "  warnings.warn(\n",
      "/usr/local/lib/python3.11/dist-packages/sklearn/preprocessing/_encoders.py:868: FutureWarning: `sparse` was renamed to `sparse_output` in version 1.2 and will be removed in 1.4. `sparse_output` is ignored unless you leave `sparse` to its default value.\n",
      "  warnings.warn(\n",
      "/usr/local/lib/python3.11/dist-packages/sklearn/svm/_base.py:1244: ConvergenceWarning: Liblinear failed to converge, increase the number of iterations.\n",
      "  warnings.warn(\n",
      "/usr/local/lib/python3.11/dist-packages/sklearn/svm/_base.py:1244: ConvergenceWarning: Liblinear failed to converge, increase the number of iterations.\n",
      "  warnings.warn(\n",
      "/usr/local/lib/python3.11/dist-packages/sklearn/svm/_base.py:1244: ConvergenceWarning: Liblinear failed to converge, increase the number of iterations.\n",
      "  warnings.warn(\n",
      "/usr/local/lib/python3.11/dist-packages/sklearn/svm/_base.py:1244: ConvergenceWarning: Liblinear failed to converge, increase the number of iterations.\n",
      "  warnings.warn(\n",
      "/usr/local/lib/python3.11/dist-packages/sklearn/preprocessing/_encoders.py:868: FutureWarning: `sparse` was renamed to `sparse_output` in version 1.2 and will be removed in 1.4. `sparse_output` is ignored unless you leave `sparse` to its default value.\n",
      "  warnings.warn(\n",
      "/usr/local/lib/python3.11/dist-packages/sklearn/preprocessing/_encoders.py:868: FutureWarning: `sparse` was renamed to `sparse_output` in version 1.2 and will be removed in 1.4. `sparse_output` is ignored unless you leave `sparse` to its default value.\n",
      "  warnings.warn(\n",
      "/usr/local/lib/python3.11/dist-packages/sklearn/preprocessing/_encoders.py:868: FutureWarning: `sparse` was renamed to `sparse_output` in version 1.2 and will be removed in 1.4. `sparse_output` is ignored unless you leave `sparse` to its default value.\n",
      "  warnings.warn(\n",
      "/usr/local/lib/python3.11/dist-packages/sklearn/preprocessing/_encoders.py:868: FutureWarning: `sparse` was renamed to `sparse_output` in version 1.2 and will be removed in 1.4. `sparse_output` is ignored unless you leave `sparse` to its default value.\n",
      "  warnings.warn(\n",
      "/usr/local/lib/python3.11/dist-packages/sklearn/svm/_base.py:1244: ConvergenceWarning: Liblinear failed to converge, increase the number of iterations.\n",
      "  warnings.warn(\n",
      "/usr/local/lib/python3.11/dist-packages/sklearn/svm/_base.py:1244: ConvergenceWarning: Liblinear failed to converge, increase the number of iterations.\n",
      "  warnings.warn(\n",
      "/usr/local/lib/python3.11/dist-packages/sklearn/svm/_base.py:1244: ConvergenceWarning: Liblinear failed to converge, increase the number of iterations.\n",
      "  warnings.warn(\n",
      "/usr/local/lib/python3.11/dist-packages/sklearn/svm/_base.py:1244: ConvergenceWarning: Liblinear failed to converge, increase the number of iterations.\n",
      "  warnings.warn(\n",
      "/usr/local/lib/python3.11/dist-packages/sklearn/preprocessing/_encoders.py:868: FutureWarning: `sparse` was renamed to `sparse_output` in version 1.2 and will be removed in 1.4. `sparse_output` is ignored unless you leave `sparse` to its default value.\n",
      "  warnings.warn(\n",
      "/usr/local/lib/python3.11/dist-packages/sklearn/svm/_base.py:1244: ConvergenceWarning: Liblinear failed to converge, increase the number of iterations.\n",
      "  warnings.warn(\n"
     ]
    },
    {
     "name": "stdout",
     "output_type": "stream",
     "text": [
      "LinearSVC best: {'clf__C': 1} score: 0.6556572267349158\n"
     ]
    },
    {
     "name": "stderr",
     "output_type": "stream",
     "text": [
      "/usr/local/lib/python3.11/dist-packages/sklearn/preprocessing/_encoders.py:868: FutureWarning: `sparse` was renamed to `sparse_output` in version 1.2 and will be removed in 1.4. `sparse_output` is ignored unless you leave `sparse` to its default value.\n",
      "  warnings.warn(\n",
      "/usr/local/lib/python3.11/dist-packages/sklearn/preprocessing/_encoders.py:868: FutureWarning: `sparse` was renamed to `sparse_output` in version 1.2 and will be removed in 1.4. `sparse_output` is ignored unless you leave `sparse` to its default value.\n",
      "  warnings.warn(\n",
      "/usr/local/lib/python3.11/dist-packages/sklearn/preprocessing/_encoders.py:868: FutureWarning: `sparse` was renamed to `sparse_output` in version 1.2 and will be removed in 1.4. `sparse_output` is ignored unless you leave `sparse` to its default value.\n",
      "  warnings.warn(\n",
      "/usr/local/lib/python3.11/dist-packages/sklearn/preprocessing/_encoders.py:868: FutureWarning: `sparse` was renamed to `sparse_output` in version 1.2 and will be removed in 1.4. `sparse_output` is ignored unless you leave `sparse` to its default value.\n",
      "  warnings.warn(\n",
      "/usr/local/lib/python3.11/dist-packages/sklearn/linear_model/_logistic.py:458: ConvergenceWarning: lbfgs failed to converge (status=1):\n",
      "STOP: TOTAL NO. OF ITERATIONS REACHED LIMIT.\n",
      "\n",
      "Increase the number of iterations (max_iter) or scale the data as shown in:\n",
      "    https://scikit-learn.org/stable/modules/preprocessing.html\n",
      "Please also refer to the documentation for alternative solver options:\n",
      "    https://scikit-learn.org/stable/modules/linear_model.html#logistic-regression\n",
      "  n_iter_i = _check_optimize_result(\n",
      "/usr/local/lib/python3.11/dist-packages/sklearn/linear_model/_logistic.py:458: ConvergenceWarning: lbfgs failed to converge (status=1):\n",
      "STOP: TOTAL NO. OF ITERATIONS REACHED LIMIT.\n",
      "\n",
      "Increase the number of iterations (max_iter) or scale the data as shown in:\n",
      "    https://scikit-learn.org/stable/modules/preprocessing.html\n",
      "Please also refer to the documentation for alternative solver options:\n",
      "    https://scikit-learn.org/stable/modules/linear_model.html#logistic-regression\n",
      "  n_iter_i = _check_optimize_result(\n",
      "/usr/local/lib/python3.11/dist-packages/sklearn/linear_model/_logistic.py:458: ConvergenceWarning: lbfgs failed to converge (status=1):\n",
      "STOP: TOTAL NO. OF ITERATIONS REACHED LIMIT.\n",
      "\n",
      "Increase the number of iterations (max_iter) or scale the data as shown in:\n",
      "    https://scikit-learn.org/stable/modules/preprocessing.html\n",
      "Please also refer to the documentation for alternative solver options:\n",
      "    https://scikit-learn.org/stable/modules/linear_model.html#logistic-regression\n",
      "  n_iter_i = _check_optimize_result(\n",
      "/usr/local/lib/python3.11/dist-packages/sklearn/linear_model/_logistic.py:458: ConvergenceWarning: lbfgs failed to converge (status=1):\n",
      "STOP: TOTAL NO. OF ITERATIONS REACHED LIMIT.\n",
      "\n",
      "Increase the number of iterations (max_iter) or scale the data as shown in:\n",
      "    https://scikit-learn.org/stable/modules/preprocessing.html\n",
      "Please also refer to the documentation for alternative solver options:\n",
      "    https://scikit-learn.org/stable/modules/linear_model.html#logistic-regression\n",
      "  n_iter_i = _check_optimize_result(\n",
      "/usr/local/lib/python3.11/dist-packages/sklearn/preprocessing/_encoders.py:868: FutureWarning: `sparse` was renamed to `sparse_output` in version 1.2 and will be removed in 1.4. `sparse_output` is ignored unless you leave `sparse` to its default value.\n",
      "  warnings.warn(\n",
      "/usr/local/lib/python3.11/dist-packages/sklearn/preprocessing/_encoders.py:868: FutureWarning: `sparse` was renamed to `sparse_output` in version 1.2 and will be removed in 1.4. `sparse_output` is ignored unless you leave `sparse` to its default value.\n",
      "  warnings.warn(\n",
      "/usr/local/lib/python3.11/dist-packages/sklearn/preprocessing/_encoders.py:868: FutureWarning: `sparse` was renamed to `sparse_output` in version 1.2 and will be removed in 1.4. `sparse_output` is ignored unless you leave `sparse` to its default value.\n",
      "  warnings.warn(\n",
      "/usr/local/lib/python3.11/dist-packages/sklearn/preprocessing/_encoders.py:868: FutureWarning: `sparse` was renamed to `sparse_output` in version 1.2 and will be removed in 1.4. `sparse_output` is ignored unless you leave `sparse` to its default value.\n",
      "  warnings.warn(\n",
      "/usr/local/lib/python3.11/dist-packages/sklearn/linear_model/_logistic.py:458: ConvergenceWarning: lbfgs failed to converge (status=1):\n",
      "STOP: TOTAL NO. OF ITERATIONS REACHED LIMIT.\n",
      "\n",
      "Increase the number of iterations (max_iter) or scale the data as shown in:\n",
      "    https://scikit-learn.org/stable/modules/preprocessing.html\n",
      "Please also refer to the documentation for alternative solver options:\n",
      "    https://scikit-learn.org/stable/modules/linear_model.html#logistic-regression\n",
      "  n_iter_i = _check_optimize_result(\n",
      "/usr/local/lib/python3.11/dist-packages/sklearn/linear_model/_logistic.py:458: ConvergenceWarning: lbfgs failed to converge (status=1):\n",
      "STOP: TOTAL NO. OF ITERATIONS REACHED LIMIT.\n",
      "\n",
      "Increase the number of iterations (max_iter) or scale the data as shown in:\n",
      "    https://scikit-learn.org/stable/modules/preprocessing.html\n",
      "Please also refer to the documentation for alternative solver options:\n",
      "    https://scikit-learn.org/stable/modules/linear_model.html#logistic-regression\n",
      "  n_iter_i = _check_optimize_result(\n",
      "/usr/local/lib/python3.11/dist-packages/sklearn/linear_model/_logistic.py:458: ConvergenceWarning: lbfgs failed to converge (status=1):\n",
      "STOP: TOTAL NO. OF ITERATIONS REACHED LIMIT.\n",
      "\n",
      "Increase the number of iterations (max_iter) or scale the data as shown in:\n",
      "    https://scikit-learn.org/stable/modules/preprocessing.html\n",
      "Please also refer to the documentation for alternative solver options:\n",
      "    https://scikit-learn.org/stable/modules/linear_model.html#logistic-regression\n",
      "  n_iter_i = _check_optimize_result(\n",
      "/usr/local/lib/python3.11/dist-packages/sklearn/linear_model/_logistic.py:458: ConvergenceWarning: lbfgs failed to converge (status=1):\n",
      "STOP: TOTAL NO. OF ITERATIONS REACHED LIMIT.\n",
      "\n",
      "Increase the number of iterations (max_iter) or scale the data as shown in:\n",
      "    https://scikit-learn.org/stable/modules/preprocessing.html\n",
      "Please also refer to the documentation for alternative solver options:\n",
      "    https://scikit-learn.org/stable/modules/linear_model.html#logistic-regression\n",
      "  n_iter_i = _check_optimize_result(\n",
      "/usr/local/lib/python3.11/dist-packages/sklearn/preprocessing/_encoders.py:868: FutureWarning: `sparse` was renamed to `sparse_output` in version 1.2 and will be removed in 1.4. `sparse_output` is ignored unless you leave `sparse` to its default value.\n",
      "  warnings.warn(\n",
      "/usr/local/lib/python3.11/dist-packages/sklearn/linear_model/_logistic.py:458: ConvergenceWarning: lbfgs failed to converge (status=1):\n",
      "STOP: TOTAL NO. OF ITERATIONS REACHED LIMIT.\n",
      "\n",
      "Increase the number of iterations (max_iter) or scale the data as shown in:\n",
      "    https://scikit-learn.org/stable/modules/preprocessing.html\n",
      "Please also refer to the documentation for alternative solver options:\n",
      "    https://scikit-learn.org/stable/modules/linear_model.html#logistic-regression\n",
      "  n_iter_i = _check_optimize_result(\n"
     ]
    },
    {
     "name": "stdout",
     "output_type": "stream",
     "text": [
      "LogReg best: {'clf__C': 2, 'clf__penalty': 'l2'} score: 0.6406112620764574\n"
     ]
    }
   ],
   "source": [
    "tuned_models = {}\n",
    "\n",
    "\n",
    "# 1) RandomForest\n",
    "rf_pipe = Pipeline(steps=[('prep', preprocess), ('clf', RandomForestClassifier(random_state=42))])\n",
    "rf_grid = {'clf__n_estimators': [200, 400], 'clf__max_depth': [None, 20, 40], 'clf__min_samples_split': [2, 5]}\n",
    "rf_cv = GridSearchCV(rf_pipe, rf_grid, scoring='f1_weighted', cv=3, n_jobs=-1)\n",
    "rf_cv.fit(X_train, y_train)\n",
    "tuned_models['RandomForest'] = rf_cv\n",
    "print('RF best:', rf_cv.best_params_, 'score:', rf_cv.best_score_)\n",
    "\n",
    "\n",
    "# 2) LinearSVC\n",
    "svm_pipe = Pipeline(steps=[('prep', preprocess), ('clf', LinearSVC())])\n",
    "svm_grid = {'clf__C': [0.5, 1, 2]}\n",
    "svm_cv = GridSearchCV(svm_pipe, svm_grid, scoring='f1_weighted', cv=3, n_jobs=-1)\n",
    "svm_cv.fit(X_train, y_train)\n",
    "tuned_models['LinearSVC'] = svm_cv\n",
    "print('LinearSVC best:', svm_cv.best_params_, 'score:', svm_cv.best_score_)\n",
    "\n",
    "\n",
    "# 3) LogisticRegression\n",
    "log_pipe = Pipeline(steps=[('prep', preprocess), ('clf', LogisticRegression(max_iter=300))])\n",
    "log_grid = {'clf__C': [0.5, 1, 2], 'clf__penalty': ['l2']}\n",
    "log_cv = GridSearchCV(log_pipe, log_grid, scoring='f1_weighted', cv=3, n_jobs=-1)\n",
    "log_cv.fit(X_train, y_train)\n",
    "tuned_models['LogisticRegression'] = log_cv\n",
    "print('LogReg best:', log_cv.best_params_, 'score:', log_cv.best_score_)"
   ]
  },
  {
   "cell_type": "markdown",
   "id": "89234f0f",
   "metadata": {
    "papermill": {
     "duration": 0.024979,
     "end_time": "2025-08-20T12:55:02.093036",
     "exception": false,
     "start_time": "2025-08-20T12:55:02.068057",
     "status": "completed"
    },
    "tags": []
   },
   "source": [
    "# Tuned vs Untuned Comparison"
   ]
  },
  {
   "cell_type": "markdown",
   "id": "cd5e5a42",
   "metadata": {
    "papermill": {
     "duration": 0.019435,
     "end_time": "2025-08-20T12:55:02.137214",
     "exception": false,
     "start_time": "2025-08-20T12:55:02.117779",
     "status": "completed"
    },
    "tags": []
   },
   "source": [
    "**We compare the tuned models against the baseline ones. The best-performing model will be selected for final predictions.**"
   ]
  },
  {
   "cell_type": "code",
   "execution_count": 21,
   "id": "19fd0955",
   "metadata": {
    "execution": {
     "iopub.execute_input": "2025-08-20T12:55:02.165753Z",
     "iopub.status.busy": "2025-08-20T12:55:02.164585Z",
     "iopub.status.idle": "2025-08-20T12:55:05.340307Z",
     "shell.execute_reply": "2025-08-20T12:55:05.339074Z"
    },
    "papermill": {
     "duration": 3.191927,
     "end_time": "2025-08-20T12:55:05.342219",
     "exception": false,
     "start_time": "2025-08-20T12:55:02.150292",
     "status": "completed"
    },
    "tags": []
   },
   "outputs": [
    {
     "data": {
      "text/html": [
       "<div>\n",
       "<style scoped>\n",
       "    .dataframe tbody tr th:only-of-type {\n",
       "        vertical-align: middle;\n",
       "    }\n",
       "\n",
       "    .dataframe tbody tr th {\n",
       "        vertical-align: top;\n",
       "    }\n",
       "\n",
       "    .dataframe thead th {\n",
       "        text-align: right;\n",
       "    }\n",
       "</style>\n",
       "<table border=\"1\" class=\"dataframe\">\n",
       "  <thead>\n",
       "    <tr style=\"text-align: right;\">\n",
       "      <th></th>\n",
       "      <th>Model</th>\n",
       "      <th>Accuracy</th>\n",
       "      <th>F1</th>\n",
       "    </tr>\n",
       "  </thead>\n",
       "  <tbody>\n",
       "    <tr>\n",
       "      <th>3</th>\n",
       "      <td>LinearSVC (Tuned)</td>\n",
       "      <td>0.693396</td>\n",
       "      <td>0.678616</td>\n",
       "    </tr>\n",
       "    <tr>\n",
       "      <th>2</th>\n",
       "      <td>RandomForest (Tuned)</td>\n",
       "      <td>0.692264</td>\n",
       "      <td>0.664119</td>\n",
       "    </tr>\n",
       "    <tr>\n",
       "      <th>4</th>\n",
       "      <td>LogisticRegression (Tuned)</td>\n",
       "      <td>0.674528</td>\n",
       "      <td>0.649328</td>\n",
       "    </tr>\n",
       "    <tr>\n",
       "      <th>0</th>\n",
       "      <td>GradientBoosting</td>\n",
       "      <td>0.637736</td>\n",
       "      <td>0.599643</td>\n",
       "    </tr>\n",
       "    <tr>\n",
       "      <th>1</th>\n",
       "      <td>MultinomialNB_TextOnly</td>\n",
       "      <td>0.634151</td>\n",
       "      <td>0.576605</td>\n",
       "    </tr>\n",
       "  </tbody>\n",
       "</table>\n",
       "</div>"
      ],
      "text/plain": [
       "                        Model  Accuracy        F1\n",
       "3           LinearSVC (Tuned)  0.693396  0.678616\n",
       "2        RandomForest (Tuned)  0.692264  0.664119\n",
       "4  LogisticRegression (Tuned)  0.674528  0.649328\n",
       "0            GradientBoosting  0.637736  0.599643\n",
       "1      MultinomialNB_TextOnly  0.634151  0.576605"
      ]
     },
     "metadata": {},
     "output_type": "display_data"
    },
    {
     "data": {
      "image/png": "[encoded data removed]",
      "text/plain": [
       "<Figure size 800x400 with 1 Axes>"
      ]
     },
     "metadata": {},
     "output_type": "display_data"
    }
   ],
   "source": [
    "rows = []\n",
    "for name, acc, f1, pipe in results:\n",
    "    # NB uses text-only inputs\n",
    "    if name == 'MultinomialNB_TextOnly':\n",
    "        pred = pipe.predict(X_valid[text_col].astype(str))\n",
    "    else:\n",
    "        pred = pipe.predict(X_valid)\n",
    "    rows.append({'Model': name, 'Accuracy': accuracy_score(y_valid, pred),\n",
    "                 'F1': f1_score(y_valid, pred, average='weighted')})\n",
    "\n",
    "for name, cv in tuned_models.items():\n",
    "    pred = cv.best_estimator_.predict(X_valid)\n",
    "    rows.append({'Model': f'{name} (Tuned)',\n",
    "                 'Accuracy': accuracy_score(y_valid, pred),\n",
    "                 'F1': f1_score(y_valid, pred, average='weighted')})\n",
    "\n",
    "cmp_df = pd.DataFrame(rows).sort_values('F1', ascending=False)\n",
    "display(cmp_df)\n",
    "\n",
    "plt.figure(figsize=(8,4))\n",
    "plt.bar(cmp_df['Model'], cmp_df['F1'])\n",
    "plt.xticks(rotation=45, ha='right')\n",
    "plt.ylabel('F1 (weighted)')\n",
    "plt.title('Tuned vs Untuned Comparison')\n",
    "plt.tight_layout()\n",
    "plt.show()"
   ]
  },
  {
   "cell_type": "markdown",
   "id": "7b3e56d1",
   "metadata": {
    "papermill": {
     "duration": 0.013331,
     "end_time": "2025-08-20T12:55:05.370324",
     "exception": false,
     "start_time": "2025-08-20T12:55:05.356993",
     "status": "completed"
    },
    "tags": []
   },
   "source": [
    "# Train Best on Full Train & Predict Test"
   ]
  },
  {
   "cell_type": "markdown",
   "id": "16c34808",
   "metadata": {
    "papermill": {
     "duration": 0.014053,
     "end_time": "2025-08-20T12:55:05.400870",
     "exception": false,
     "start_time": "2025-08-20T12:55:05.386817",
     "status": "completed"
    },
    "tags": []
   },
   "source": [
    "**The best model is trained on the full training dataset and used to predict ratings for the test set.\n",
    "Finally, predictions are saved in `submission.csv` in the correct Kaggle format.**"
   ]
  },
  {
   "cell_type": "code",
   "execution_count": 22,
   "id": "dc4cf9db",
   "metadata": {
    "execution": {
     "iopub.execute_input": "2025-08-20T12:55:05.429331Z",
     "iopub.status.busy": "2025-08-20T12:55:05.429034Z",
     "iopub.status.idle": "2025-08-20T12:55:48.401197Z",
     "shell.execute_reply": "2025-08-20T12:55:48.399961Z"
    },
    "papermill": {
     "duration": 43.001397,
     "end_time": "2025-08-20T12:55:48.415895",
     "exception": false,
     "start_time": "2025-08-20T12:55:05.414498",
     "status": "completed"
    },
    "tags": []
   },
   "outputs": [
    {
     "name": "stdout",
     "output_type": "stream",
     "text": [
      "Saved submission.csv\n"
     ]
    }
   ],
   "source": [
    "best = tuned_models.get('LinearSVC', None)\n",
    "if best is None:\n",
    "    best = sorted(results, key=lambda r: r[2], reverse=True)[0][3]\n",
    "else:\n",
    "    best = best.best_estimator_\n",
    "\n",
    "best.fit(train.drop(columns=['rating']), train['rating'])\n",
    "test_pred = None\n",
    "\n",
    "if isinstance(best, Pipeline) and 'clf' in best.named_steps and isinstance(best.named_steps['clf'], MultinomialNB):\n",
    "    test_pred = best.predict(test[text_col].astype(str))\n",
    "else:\n",
    "    test_pred = best.predict(test)\n",
    "\n",
    "submission = pd.DataFrame({'id': test['id'], 'rating': test_pred})\n",
    "submission.head()\n",
    "\n",
    "submission.to_csv('submission.csv', index=False)\n",
    "print(\"Saved submission.csv\")"
   ]
  }
 ],
 "metadata": {
  "kaggle": {
   "accelerator": "none",
   "dataSources": [
    {
     "databundleVersionId": 13272433,
     "sourceId": 111489,
     "sourceType": "competition"
    }
   ],
   "dockerImageVersionId": 31089,
   "isGpuEnabled": false,
   "isInternetEnabled": true,
   "language": "python",
   "sourceType": "notebook"
  },
  "kernelspec": {
   "display_name": "Python 3",
   "language": "python",
   "name": "python3"
  },
  "language_info": {
   "codemirror_mode": {
    "name": "ipython",
    "version": 3
   },
   "file_extension": ".py",
   "mimetype": "text/x-python",
   "name": "python",
   "nbconvert_exporter": "python",
   "pygments_lexer": "ipython3",
   "version": "3.11.13"
  },
  "papermill": {
   "default_parameters": {},
   "duration": 1815.939947,
   "end_time": "2025-08-20T12:55:51.154558",
   "environment_variables": {},
   "exception": null,
   "input_path": "__notebook__.ipynb",
   "output_path": "__notebook__.ipynb",
   "parameters": {},
   "start_time": "2025-08-20T12:25:35.214611",
   "version": "2.6.0"
  }
 },
 "nbformat": 4,
 "nbformat_minor": 5
}
